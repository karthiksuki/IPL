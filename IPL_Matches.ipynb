{
 "cells": [
  {
   "cell_type": "code",
   "execution_count": 1,
   "metadata": {
    "id": "BmEMYR75BwrX"
   },
   "outputs": [],
   "source": [
    "# Importing the libraries\n",
    "\n",
    "import numpy as np\n",
    "import pandas as pd\n",
    "import seaborn as sns\n",
    "import matplotlib.pyplot as plt\n",
    "\n",
    "%matplotlib inline"
   ]
  },
  {
   "cell_type": "code",
   "execution_count": 2,
   "metadata": {
    "id": "yMKtmzl5Cy91"
   },
   "outputs": [],
   "source": [
    "matches = pd.read_csv('matches.csv')"
   ]
  },
  {
   "cell_type": "code",
   "execution_count": 3,
   "metadata": {
    "colab": {
     "base_uri": "https://localhost:8080/",
     "height": 812
    },
    "id": "QedYMeLlC5bW",
    "outputId": "8aac3dd3-9698-410b-83ee-2da8b7b55300"
   },
   "outputs": [
    {
     "data": {
      "text/html": [
       "<div>\n",
       "<style scoped>\n",
       "    .dataframe tbody tr th:only-of-type {\n",
       "        vertical-align: middle;\n",
       "    }\n",
       "\n",
       "    .dataframe tbody tr th {\n",
       "        vertical-align: top;\n",
       "    }\n",
       "\n",
       "    .dataframe thead th {\n",
       "        text-align: right;\n",
       "    }\n",
       "</style>\n",
       "<table border=\"1\" class=\"dataframe\">\n",
       "  <thead>\n",
       "    <tr style=\"text-align: right;\">\n",
       "      <th></th>\n",
       "      <th>id</th>\n",
       "      <th>season</th>\n",
       "      <th>city</th>\n",
       "      <th>date</th>\n",
       "      <th>team1</th>\n",
       "      <th>team2</th>\n",
       "      <th>toss_winner</th>\n",
       "      <th>toss_decision</th>\n",
       "      <th>result</th>\n",
       "      <th>dl_applied</th>\n",
       "      <th>winner</th>\n",
       "      <th>win_by_runs</th>\n",
       "      <th>win_by_wickets</th>\n",
       "      <th>player_of_match</th>\n",
       "      <th>venue</th>\n",
       "      <th>umpire1</th>\n",
       "      <th>umpire2</th>\n",
       "      <th>umpire3</th>\n",
       "    </tr>\n",
       "  </thead>\n",
       "  <tbody>\n",
       "    <tr>\n",
       "      <th>0</th>\n",
       "      <td>1</td>\n",
       "      <td>2017</td>\n",
       "      <td>Hyderabad</td>\n",
       "      <td>2017-04-05</td>\n",
       "      <td>Sunrisers Hyderabad</td>\n",
       "      <td>Royal Challengers Bangalore</td>\n",
       "      <td>Royal Challengers Bangalore</td>\n",
       "      <td>field</td>\n",
       "      <td>normal</td>\n",
       "      <td>0</td>\n",
       "      <td>Sunrisers Hyderabad</td>\n",
       "      <td>35</td>\n",
       "      <td>0</td>\n",
       "      <td>Yuvraj Singh</td>\n",
       "      <td>Rajiv Gandhi International Stadium, Uppal</td>\n",
       "      <td>AY Dandekar</td>\n",
       "      <td>NJ Llong</td>\n",
       "      <td>NaN</td>\n",
       "    </tr>\n",
       "    <tr>\n",
       "      <th>1</th>\n",
       "      <td>2</td>\n",
       "      <td>2017</td>\n",
       "      <td>Pune</td>\n",
       "      <td>2017-04-06</td>\n",
       "      <td>Mumbai Indians</td>\n",
       "      <td>Rising Pune Supergiant</td>\n",
       "      <td>Rising Pune Supergiant</td>\n",
       "      <td>field</td>\n",
       "      <td>normal</td>\n",
       "      <td>0</td>\n",
       "      <td>Rising Pune Supergiant</td>\n",
       "      <td>0</td>\n",
       "      <td>7</td>\n",
       "      <td>SPD Smith</td>\n",
       "      <td>Maharashtra Cricket Association Stadium</td>\n",
       "      <td>A Nand Kishore</td>\n",
       "      <td>S Ravi</td>\n",
       "      <td>NaN</td>\n",
       "    </tr>\n",
       "    <tr>\n",
       "      <th>2</th>\n",
       "      <td>3</td>\n",
       "      <td>2017</td>\n",
       "      <td>Rajkot</td>\n",
       "      <td>2017-04-07</td>\n",
       "      <td>Gujarat Lions</td>\n",
       "      <td>Kolkata Knight Riders</td>\n",
       "      <td>Kolkata Knight Riders</td>\n",
       "      <td>field</td>\n",
       "      <td>normal</td>\n",
       "      <td>0</td>\n",
       "      <td>Kolkata Knight Riders</td>\n",
       "      <td>0</td>\n",
       "      <td>10</td>\n",
       "      <td>CA Lynn</td>\n",
       "      <td>Saurashtra Cricket Association Stadium</td>\n",
       "      <td>Nitin Menon</td>\n",
       "      <td>CK Nandan</td>\n",
       "      <td>NaN</td>\n",
       "    </tr>\n",
       "    <tr>\n",
       "      <th>3</th>\n",
       "      <td>4</td>\n",
       "      <td>2017</td>\n",
       "      <td>Indore</td>\n",
       "      <td>2017-04-08</td>\n",
       "      <td>Rising Pune Supergiant</td>\n",
       "      <td>Kings XI Punjab</td>\n",
       "      <td>Kings XI Punjab</td>\n",
       "      <td>field</td>\n",
       "      <td>normal</td>\n",
       "      <td>0</td>\n",
       "      <td>Kings XI Punjab</td>\n",
       "      <td>0</td>\n",
       "      <td>6</td>\n",
       "      <td>GJ Maxwell</td>\n",
       "      <td>Holkar Cricket Stadium</td>\n",
       "      <td>AK Chaudhary</td>\n",
       "      <td>C Shamshuddin</td>\n",
       "      <td>NaN</td>\n",
       "    </tr>\n",
       "    <tr>\n",
       "      <th>4</th>\n",
       "      <td>5</td>\n",
       "      <td>2017</td>\n",
       "      <td>Bangalore</td>\n",
       "      <td>2017-04-08</td>\n",
       "      <td>Royal Challengers Bangalore</td>\n",
       "      <td>Delhi Daredevils</td>\n",
       "      <td>Royal Challengers Bangalore</td>\n",
       "      <td>bat</td>\n",
       "      <td>normal</td>\n",
       "      <td>0</td>\n",
       "      <td>Royal Challengers Bangalore</td>\n",
       "      <td>15</td>\n",
       "      <td>0</td>\n",
       "      <td>KM Jadhav</td>\n",
       "      <td>M Chinnaswamy Stadium</td>\n",
       "      <td>NaN</td>\n",
       "      <td>NaN</td>\n",
       "      <td>NaN</td>\n",
       "    </tr>\n",
       "    <tr>\n",
       "      <th>...</th>\n",
       "      <td>...</td>\n",
       "      <td>...</td>\n",
       "      <td>...</td>\n",
       "      <td>...</td>\n",
       "      <td>...</td>\n",
       "      <td>...</td>\n",
       "      <td>...</td>\n",
       "      <td>...</td>\n",
       "      <td>...</td>\n",
       "      <td>...</td>\n",
       "      <td>...</td>\n",
       "      <td>...</td>\n",
       "      <td>...</td>\n",
       "      <td>...</td>\n",
       "      <td>...</td>\n",
       "      <td>...</td>\n",
       "      <td>...</td>\n",
       "      <td>...</td>\n",
       "    </tr>\n",
       "    <tr>\n",
       "      <th>751</th>\n",
       "      <td>11347</td>\n",
       "      <td>2019</td>\n",
       "      <td>Mumbai</td>\n",
       "      <td>05/05/19</td>\n",
       "      <td>Kolkata Knight Riders</td>\n",
       "      <td>Mumbai Indians</td>\n",
       "      <td>Mumbai Indians</td>\n",
       "      <td>field</td>\n",
       "      <td>normal</td>\n",
       "      <td>0</td>\n",
       "      <td>Mumbai Indians</td>\n",
       "      <td>0</td>\n",
       "      <td>9</td>\n",
       "      <td>HH Pandya</td>\n",
       "      <td>Wankhede Stadium</td>\n",
       "      <td>Nanda Kishore</td>\n",
       "      <td>O Nandan</td>\n",
       "      <td>S Ravi</td>\n",
       "    </tr>\n",
       "    <tr>\n",
       "      <th>752</th>\n",
       "      <td>11412</td>\n",
       "      <td>2019</td>\n",
       "      <td>Chennai</td>\n",
       "      <td>07/05/19</td>\n",
       "      <td>Chennai Super Kings</td>\n",
       "      <td>Mumbai Indians</td>\n",
       "      <td>Chennai Super Kings</td>\n",
       "      <td>bat</td>\n",
       "      <td>normal</td>\n",
       "      <td>0</td>\n",
       "      <td>Mumbai Indians</td>\n",
       "      <td>0</td>\n",
       "      <td>6</td>\n",
       "      <td>AS Yadav</td>\n",
       "      <td>M. A. Chidambaram Stadium</td>\n",
       "      <td>Nigel Llong</td>\n",
       "      <td>Nitin Menon</td>\n",
       "      <td>Ian Gould</td>\n",
       "    </tr>\n",
       "    <tr>\n",
       "      <th>753</th>\n",
       "      <td>11413</td>\n",
       "      <td>2019</td>\n",
       "      <td>Visakhapatnam</td>\n",
       "      <td>08/05/19</td>\n",
       "      <td>Sunrisers Hyderabad</td>\n",
       "      <td>Delhi Capitals</td>\n",
       "      <td>Delhi Capitals</td>\n",
       "      <td>field</td>\n",
       "      <td>normal</td>\n",
       "      <td>0</td>\n",
       "      <td>Delhi Capitals</td>\n",
       "      <td>0</td>\n",
       "      <td>2</td>\n",
       "      <td>RR Pant</td>\n",
       "      <td>ACA-VDCA Stadium</td>\n",
       "      <td>NaN</td>\n",
       "      <td>NaN</td>\n",
       "      <td>NaN</td>\n",
       "    </tr>\n",
       "    <tr>\n",
       "      <th>754</th>\n",
       "      <td>11414</td>\n",
       "      <td>2019</td>\n",
       "      <td>Visakhapatnam</td>\n",
       "      <td>10/05/19</td>\n",
       "      <td>Delhi Capitals</td>\n",
       "      <td>Chennai Super Kings</td>\n",
       "      <td>Chennai Super Kings</td>\n",
       "      <td>field</td>\n",
       "      <td>normal</td>\n",
       "      <td>0</td>\n",
       "      <td>Chennai Super Kings</td>\n",
       "      <td>0</td>\n",
       "      <td>6</td>\n",
       "      <td>F du Plessis</td>\n",
       "      <td>ACA-VDCA Stadium</td>\n",
       "      <td>Sundaram Ravi</td>\n",
       "      <td>Bruce Oxenford</td>\n",
       "      <td>Chettithody Shamshuddin</td>\n",
       "    </tr>\n",
       "    <tr>\n",
       "      <th>755</th>\n",
       "      <td>11415</td>\n",
       "      <td>2019</td>\n",
       "      <td>Hyderabad</td>\n",
       "      <td>12/05/19</td>\n",
       "      <td>Mumbai Indians</td>\n",
       "      <td>Chennai Super Kings</td>\n",
       "      <td>Mumbai Indians</td>\n",
       "      <td>bat</td>\n",
       "      <td>normal</td>\n",
       "      <td>0</td>\n",
       "      <td>Mumbai Indians</td>\n",
       "      <td>1</td>\n",
       "      <td>0</td>\n",
       "      <td>JJ Bumrah</td>\n",
       "      <td>Rajiv Gandhi Intl. Cricket Stadium</td>\n",
       "      <td>Nitin Menon</td>\n",
       "      <td>Ian Gould</td>\n",
       "      <td>Nigel Llong</td>\n",
       "    </tr>\n",
       "  </tbody>\n",
       "</table>\n",
       "<p>756 rows × 18 columns</p>\n",
       "</div>"
      ],
      "text/plain": [
       "        id  season           city        date                        team1  \\\n",
       "0        1    2017      Hyderabad  2017-04-05          Sunrisers Hyderabad   \n",
       "1        2    2017           Pune  2017-04-06               Mumbai Indians   \n",
       "2        3    2017         Rajkot  2017-04-07                Gujarat Lions   \n",
       "3        4    2017         Indore  2017-04-08       Rising Pune Supergiant   \n",
       "4        5    2017      Bangalore  2017-04-08  Royal Challengers Bangalore   \n",
       "..     ...     ...            ...         ...                          ...   \n",
       "751  11347    2019         Mumbai    05/05/19        Kolkata Knight Riders   \n",
       "752  11412    2019        Chennai    07/05/19          Chennai Super Kings   \n",
       "753  11413    2019  Visakhapatnam    08/05/19          Sunrisers Hyderabad   \n",
       "754  11414    2019  Visakhapatnam    10/05/19               Delhi Capitals   \n",
       "755  11415    2019      Hyderabad    12/05/19               Mumbai Indians   \n",
       "\n",
       "                           team2                  toss_winner toss_decision  \\\n",
       "0    Royal Challengers Bangalore  Royal Challengers Bangalore         field   \n",
       "1         Rising Pune Supergiant       Rising Pune Supergiant         field   \n",
       "2          Kolkata Knight Riders        Kolkata Knight Riders         field   \n",
       "3                Kings XI Punjab              Kings XI Punjab         field   \n",
       "4               Delhi Daredevils  Royal Challengers Bangalore           bat   \n",
       "..                           ...                          ...           ...   \n",
       "751               Mumbai Indians               Mumbai Indians         field   \n",
       "752               Mumbai Indians          Chennai Super Kings           bat   \n",
       "753               Delhi Capitals               Delhi Capitals         field   \n",
       "754          Chennai Super Kings          Chennai Super Kings         field   \n",
       "755          Chennai Super Kings               Mumbai Indians           bat   \n",
       "\n",
       "     result  dl_applied                       winner  win_by_runs  \\\n",
       "0    normal           0          Sunrisers Hyderabad           35   \n",
       "1    normal           0       Rising Pune Supergiant            0   \n",
       "2    normal           0        Kolkata Knight Riders            0   \n",
       "3    normal           0              Kings XI Punjab            0   \n",
       "4    normal           0  Royal Challengers Bangalore           15   \n",
       "..      ...         ...                          ...          ...   \n",
       "751  normal           0               Mumbai Indians            0   \n",
       "752  normal           0               Mumbai Indians            0   \n",
       "753  normal           0               Delhi Capitals            0   \n",
       "754  normal           0          Chennai Super Kings            0   \n",
       "755  normal           0               Mumbai Indians            1   \n",
       "\n",
       "     win_by_wickets player_of_match  \\\n",
       "0                 0    Yuvraj Singh   \n",
       "1                 7       SPD Smith   \n",
       "2                10         CA Lynn   \n",
       "3                 6      GJ Maxwell   \n",
       "4                 0       KM Jadhav   \n",
       "..              ...             ...   \n",
       "751               9       HH Pandya   \n",
       "752               6        AS Yadav   \n",
       "753               2         RR Pant   \n",
       "754               6    F du Plessis   \n",
       "755               0       JJ Bumrah   \n",
       "\n",
       "                                         venue         umpire1  \\\n",
       "0    Rajiv Gandhi International Stadium, Uppal     AY Dandekar   \n",
       "1      Maharashtra Cricket Association Stadium  A Nand Kishore   \n",
       "2       Saurashtra Cricket Association Stadium     Nitin Menon   \n",
       "3                       Holkar Cricket Stadium    AK Chaudhary   \n",
       "4                        M Chinnaswamy Stadium             NaN   \n",
       "..                                         ...             ...   \n",
       "751                           Wankhede Stadium   Nanda Kishore   \n",
       "752                  M. A. Chidambaram Stadium     Nigel Llong   \n",
       "753                           ACA-VDCA Stadium             NaN   \n",
       "754                           ACA-VDCA Stadium   Sundaram Ravi   \n",
       "755         Rajiv Gandhi Intl. Cricket Stadium     Nitin Menon   \n",
       "\n",
       "            umpire2                  umpire3  \n",
       "0          NJ Llong                      NaN  \n",
       "1            S Ravi                      NaN  \n",
       "2         CK Nandan                      NaN  \n",
       "3     C Shamshuddin                      NaN  \n",
       "4               NaN                      NaN  \n",
       "..              ...                      ...  \n",
       "751        O Nandan                   S Ravi  \n",
       "752     Nitin Menon                Ian Gould  \n",
       "753             NaN                      NaN  \n",
       "754  Bruce Oxenford  Chettithody Shamshuddin  \n",
       "755       Ian Gould              Nigel Llong  \n",
       "\n",
       "[756 rows x 18 columns]"
      ]
     },
     "execution_count": 3,
     "metadata": {},
     "output_type": "execute_result"
    }
   ],
   "source": [
    "matches"
   ]
  },
  {
   "cell_type": "code",
   "execution_count": 4,
   "metadata": {
    "colab": {
     "base_uri": "https://localhost:8080/"
    },
    "id": "DbHZvB5cDS7f",
    "outputId": "f2eb8d23-3d89-4e3c-fb20-bd81d9e4adc5"
   },
   "outputs": [
    {
     "data": {
      "text/plain": [
       "(756, 18)"
      ]
     },
     "execution_count": 4,
     "metadata": {},
     "output_type": "execute_result"
    }
   ],
   "source": [
    "matches.shape"
   ]
  },
  {
   "cell_type": "code",
   "execution_count": 5,
   "metadata": {
    "colab": {
     "base_uri": "https://localhost:8080/"
    },
    "id": "G0J5xCAqDCew",
    "outputId": "c9939dcf-0f77-48b1-8e69-8f23e25db4fc"
   },
   "outputs": [
    {
     "data": {
      "text/plain": [
       "Index(['id', 'season', 'city', 'date', 'team1', 'team2', 'toss_winner',\n",
       "       'toss_decision', 'result', 'dl_applied', 'winner', 'win_by_runs',\n",
       "       'win_by_wickets', 'player_of_match', 'venue', 'umpire1', 'umpire2',\n",
       "       'umpire3'],\n",
       "      dtype='object')"
      ]
     },
     "execution_count": 5,
     "metadata": {},
     "output_type": "execute_result"
    }
   ],
   "source": [
    "matches.columns"
   ]
  },
  {
   "cell_type": "markdown",
   "metadata": {
    "id": "zc9QP2IVFCm8"
   },
   "source": [
    "To find the number of NaN values we use `isna` module we use `sum` to find the sum of NaN  "
   ]
  },
  {
   "cell_type": "code",
   "execution_count": 6,
   "metadata": {
    "colab": {
     "base_uri": "https://localhost:8080/"
    },
    "id": "-YCOeD9OEuio",
    "outputId": "fb2297df-02df-4385-8504-60a108fdcf26"
   },
   "outputs": [
    {
     "data": {
      "text/plain": [
       "id                   0\n",
       "season               0\n",
       "city                 7\n",
       "date                 0\n",
       "team1                0\n",
       "team2                0\n",
       "toss_winner          0\n",
       "toss_decision        0\n",
       "result               0\n",
       "dl_applied           0\n",
       "winner               4\n",
       "win_by_runs          0\n",
       "win_by_wickets       0\n",
       "player_of_match      4\n",
       "venue                0\n",
       "umpire1              2\n",
       "umpire2              2\n",
       "umpire3            637\n",
       "dtype: int64"
      ]
     },
     "execution_count": 6,
     "metadata": {},
     "output_type": "execute_result"
    }
   ],
   "source": [
    "matches.isna().sum()"
   ]
  },
  {
   "cell_type": "markdown",
   "metadata": {
    "id": "1ukoGZW8E8XC"
   },
   "source": [
    "Replacing NaN to 0 "
   ]
  },
  {
   "cell_type": "code",
   "execution_count": 7,
   "metadata": {
    "id": "tUE28xDlFAbj"
   },
   "outputs": [],
   "source": [
    "matches['city'].replace(np.NaN,'0',inplace=True)\n",
    "matches['winner'].replace(np.NaN,'0',inplace=True)\n",
    "matches['umpire1'].replace(np.NaN,'0',inplace=True)\n",
    "matches['umpire2'].replace(np.NaN,'0',inplace=True)\n",
    "matches['umpire3'].replace(np.NaN,'0',inplace=True)\n",
    "matches['player_of_match'].replace(np.NaN,'0',inplace=True)"
   ]
  },
  {
   "cell_type": "markdown",
   "metadata": {
    "id": "D1XrhZQkGAiT"
   },
   "source": [
    "Let's check for NaN values."
   ]
  },
  {
   "cell_type": "code",
   "execution_count": 8,
   "metadata": {
    "colab": {
     "base_uri": "https://localhost:8080/"
    },
    "id": "Tv1hGEIVGLLN",
    "outputId": "550c7e3d-90da-4ac0-926e-8f2600b5dd43"
   },
   "outputs": [
    {
     "data": {
      "text/plain": [
       "id                 0\n",
       "season             0\n",
       "city               0\n",
       "date               0\n",
       "team1              0\n",
       "team2              0\n",
       "toss_winner        0\n",
       "toss_decision      0\n",
       "result             0\n",
       "dl_applied         0\n",
       "winner             0\n",
       "win_by_runs        0\n",
       "win_by_wickets     0\n",
       "player_of_match    0\n",
       "venue              0\n",
       "umpire1            0\n",
       "umpire2            0\n",
       "umpire3            0\n",
       "dtype: int64"
      ]
     },
     "execution_count": 8,
     "metadata": {},
     "output_type": "execute_result"
    }
   ],
   "source": [
    "matches.isna().sum()"
   ]
  },
  {
   "cell_type": "markdown",
   "metadata": {
    "id": "vh8DdMbzGcb5"
   },
   "source": [
    "Ahhh! We change `NaN` to `0` \n",
    "Let's start analyse our data. "
   ]
  },
  {
   "cell_type": "markdown",
   "metadata": {
    "id": "46jpsBn_HG-W"
   },
   "source": [
    "Let's replace big name with short ones to analyse more sufficently"
   ]
  },
  {
   "cell_type": "code",
   "execution_count": 9,
   "metadata": {
    "colab": {
     "base_uri": "https://localhost:8080/",
     "height": 761
    },
    "id": "Zxic_IbQFsfD",
    "outputId": "20ee6186-c466-49bd-df52-1b51ed378642"
   },
   "outputs": [
    {
     "data": {
      "text/html": [
       "<div>\n",
       "<style scoped>\n",
       "    .dataframe tbody tr th:only-of-type {\n",
       "        vertical-align: middle;\n",
       "    }\n",
       "\n",
       "    .dataframe tbody tr th {\n",
       "        vertical-align: top;\n",
       "    }\n",
       "\n",
       "    .dataframe thead th {\n",
       "        text-align: right;\n",
       "    }\n",
       "</style>\n",
       "<table border=\"1\" class=\"dataframe\">\n",
       "  <thead>\n",
       "    <tr style=\"text-align: right;\">\n",
       "      <th></th>\n",
       "      <th>id</th>\n",
       "      <th>season</th>\n",
       "      <th>city</th>\n",
       "      <th>date</th>\n",
       "      <th>team1</th>\n",
       "      <th>team2</th>\n",
       "      <th>toss_winner</th>\n",
       "      <th>toss_decision</th>\n",
       "      <th>result</th>\n",
       "      <th>dl_applied</th>\n",
       "      <th>winner</th>\n",
       "      <th>win_by_runs</th>\n",
       "      <th>win_by_wickets</th>\n",
       "      <th>player_of_match</th>\n",
       "      <th>venue</th>\n",
       "      <th>umpire1</th>\n",
       "      <th>umpire2</th>\n",
       "      <th>umpire3</th>\n",
       "    </tr>\n",
       "  </thead>\n",
       "  <tbody>\n",
       "    <tr>\n",
       "      <th>0</th>\n",
       "      <td>1</td>\n",
       "      <td>2017</td>\n",
       "      <td>Hyderabad</td>\n",
       "      <td>2017-04-05</td>\n",
       "      <td>SRH</td>\n",
       "      <td>RCB</td>\n",
       "      <td>RCB</td>\n",
       "      <td>field</td>\n",
       "      <td>normal</td>\n",
       "      <td>0</td>\n",
       "      <td>SRH</td>\n",
       "      <td>35</td>\n",
       "      <td>0</td>\n",
       "      <td>Yuvraj Singh</td>\n",
       "      <td>Rajiv Gandhi International Stadium, Uppal</td>\n",
       "      <td>AY Dandekar</td>\n",
       "      <td>NJ Llong</td>\n",
       "      <td>0</td>\n",
       "    </tr>\n",
       "    <tr>\n",
       "      <th>1</th>\n",
       "      <td>2</td>\n",
       "      <td>2017</td>\n",
       "      <td>Pune</td>\n",
       "      <td>2017-04-06</td>\n",
       "      <td>MI</td>\n",
       "      <td>RPS</td>\n",
       "      <td>RPS</td>\n",
       "      <td>field</td>\n",
       "      <td>normal</td>\n",
       "      <td>0</td>\n",
       "      <td>RPS</td>\n",
       "      <td>0</td>\n",
       "      <td>7</td>\n",
       "      <td>SPD Smith</td>\n",
       "      <td>Maharashtra Cricket Association Stadium</td>\n",
       "      <td>A Nand Kishore</td>\n",
       "      <td>S Ravi</td>\n",
       "      <td>0</td>\n",
       "    </tr>\n",
       "    <tr>\n",
       "      <th>2</th>\n",
       "      <td>3</td>\n",
       "      <td>2017</td>\n",
       "      <td>Rajkot</td>\n",
       "      <td>2017-04-07</td>\n",
       "      <td>GL</td>\n",
       "      <td>KKR</td>\n",
       "      <td>KKR</td>\n",
       "      <td>field</td>\n",
       "      <td>normal</td>\n",
       "      <td>0</td>\n",
       "      <td>KKR</td>\n",
       "      <td>0</td>\n",
       "      <td>10</td>\n",
       "      <td>CA Lynn</td>\n",
       "      <td>Saurashtra Cricket Association Stadium</td>\n",
       "      <td>Nitin Menon</td>\n",
       "      <td>CK Nandan</td>\n",
       "      <td>0</td>\n",
       "    </tr>\n",
       "    <tr>\n",
       "      <th>3</th>\n",
       "      <td>4</td>\n",
       "      <td>2017</td>\n",
       "      <td>Indore</td>\n",
       "      <td>2017-04-08</td>\n",
       "      <td>RPS</td>\n",
       "      <td>KXIP</td>\n",
       "      <td>KXIP</td>\n",
       "      <td>field</td>\n",
       "      <td>normal</td>\n",
       "      <td>0</td>\n",
       "      <td>KXIP</td>\n",
       "      <td>0</td>\n",
       "      <td>6</td>\n",
       "      <td>GJ Maxwell</td>\n",
       "      <td>Holkar Cricket Stadium</td>\n",
       "      <td>AK Chaudhary</td>\n",
       "      <td>C Shamshuddin</td>\n",
       "      <td>0</td>\n",
       "    </tr>\n",
       "    <tr>\n",
       "      <th>4</th>\n",
       "      <td>5</td>\n",
       "      <td>2017</td>\n",
       "      <td>Bangalore</td>\n",
       "      <td>2017-04-08</td>\n",
       "      <td>RCB</td>\n",
       "      <td>Delhi Daredevils</td>\n",
       "      <td>RCB</td>\n",
       "      <td>bat</td>\n",
       "      <td>normal</td>\n",
       "      <td>0</td>\n",
       "      <td>RCB</td>\n",
       "      <td>15</td>\n",
       "      <td>0</td>\n",
       "      <td>KM Jadhav</td>\n",
       "      <td>M Chinnaswamy Stadium</td>\n",
       "      <td>0</td>\n",
       "      <td>0</td>\n",
       "      <td>0</td>\n",
       "    </tr>\n",
       "    <tr>\n",
       "      <th>...</th>\n",
       "      <td>...</td>\n",
       "      <td>...</td>\n",
       "      <td>...</td>\n",
       "      <td>...</td>\n",
       "      <td>...</td>\n",
       "      <td>...</td>\n",
       "      <td>...</td>\n",
       "      <td>...</td>\n",
       "      <td>...</td>\n",
       "      <td>...</td>\n",
       "      <td>...</td>\n",
       "      <td>...</td>\n",
       "      <td>...</td>\n",
       "      <td>...</td>\n",
       "      <td>...</td>\n",
       "      <td>...</td>\n",
       "      <td>...</td>\n",
       "      <td>...</td>\n",
       "    </tr>\n",
       "    <tr>\n",
       "      <th>751</th>\n",
       "      <td>11347</td>\n",
       "      <td>2019</td>\n",
       "      <td>Mumbai</td>\n",
       "      <td>05/05/19</td>\n",
       "      <td>KKR</td>\n",
       "      <td>MI</td>\n",
       "      <td>MI</td>\n",
       "      <td>field</td>\n",
       "      <td>normal</td>\n",
       "      <td>0</td>\n",
       "      <td>MI</td>\n",
       "      <td>0</td>\n",
       "      <td>9</td>\n",
       "      <td>HH Pandya</td>\n",
       "      <td>Wankhede Stadium</td>\n",
       "      <td>Nanda Kishore</td>\n",
       "      <td>O Nandan</td>\n",
       "      <td>S Ravi</td>\n",
       "    </tr>\n",
       "    <tr>\n",
       "      <th>752</th>\n",
       "      <td>11412</td>\n",
       "      <td>2019</td>\n",
       "      <td>Chennai</td>\n",
       "      <td>07/05/19</td>\n",
       "      <td>CSK</td>\n",
       "      <td>MI</td>\n",
       "      <td>CSK</td>\n",
       "      <td>bat</td>\n",
       "      <td>normal</td>\n",
       "      <td>0</td>\n",
       "      <td>MI</td>\n",
       "      <td>0</td>\n",
       "      <td>6</td>\n",
       "      <td>AS Yadav</td>\n",
       "      <td>M. A. Chidambaram Stadium</td>\n",
       "      <td>Nigel Llong</td>\n",
       "      <td>Nitin Menon</td>\n",
       "      <td>Ian Gould</td>\n",
       "    </tr>\n",
       "    <tr>\n",
       "      <th>753</th>\n",
       "      <td>11413</td>\n",
       "      <td>2019</td>\n",
       "      <td>Visakhapatnam</td>\n",
       "      <td>08/05/19</td>\n",
       "      <td>SRH</td>\n",
       "      <td>DD</td>\n",
       "      <td>DD</td>\n",
       "      <td>field</td>\n",
       "      <td>normal</td>\n",
       "      <td>0</td>\n",
       "      <td>DD</td>\n",
       "      <td>0</td>\n",
       "      <td>2</td>\n",
       "      <td>RR Pant</td>\n",
       "      <td>ACA-VDCA Stadium</td>\n",
       "      <td>0</td>\n",
       "      <td>0</td>\n",
       "      <td>0</td>\n",
       "    </tr>\n",
       "    <tr>\n",
       "      <th>754</th>\n",
       "      <td>11414</td>\n",
       "      <td>2019</td>\n",
       "      <td>Visakhapatnam</td>\n",
       "      <td>10/05/19</td>\n",
       "      <td>DD</td>\n",
       "      <td>CSK</td>\n",
       "      <td>CSK</td>\n",
       "      <td>field</td>\n",
       "      <td>normal</td>\n",
       "      <td>0</td>\n",
       "      <td>CSK</td>\n",
       "      <td>0</td>\n",
       "      <td>6</td>\n",
       "      <td>F du Plessis</td>\n",
       "      <td>ACA-VDCA Stadium</td>\n",
       "      <td>Sundaram Ravi</td>\n",
       "      <td>Bruce Oxenford</td>\n",
       "      <td>Chettithody Shamshuddin</td>\n",
       "    </tr>\n",
       "    <tr>\n",
       "      <th>755</th>\n",
       "      <td>11415</td>\n",
       "      <td>2019</td>\n",
       "      <td>Hyderabad</td>\n",
       "      <td>12/05/19</td>\n",
       "      <td>MI</td>\n",
       "      <td>CSK</td>\n",
       "      <td>MI</td>\n",
       "      <td>bat</td>\n",
       "      <td>normal</td>\n",
       "      <td>0</td>\n",
       "      <td>MI</td>\n",
       "      <td>1</td>\n",
       "      <td>0</td>\n",
       "      <td>JJ Bumrah</td>\n",
       "      <td>Rajiv Gandhi Intl. Cricket Stadium</td>\n",
       "      <td>Nitin Menon</td>\n",
       "      <td>Ian Gould</td>\n",
       "      <td>Nigel Llong</td>\n",
       "    </tr>\n",
       "  </tbody>\n",
       "</table>\n",
       "<p>756 rows × 18 columns</p>\n",
       "</div>"
      ],
      "text/plain": [
       "        id  season           city        date team1             team2  \\\n",
       "0        1    2017      Hyderabad  2017-04-05   SRH               RCB   \n",
       "1        2    2017           Pune  2017-04-06    MI               RPS   \n",
       "2        3    2017         Rajkot  2017-04-07    GL               KKR   \n",
       "3        4    2017         Indore  2017-04-08   RPS              KXIP   \n",
       "4        5    2017      Bangalore  2017-04-08   RCB  Delhi Daredevils   \n",
       "..     ...     ...            ...         ...   ...               ...   \n",
       "751  11347    2019         Mumbai    05/05/19   KKR                MI   \n",
       "752  11412    2019        Chennai    07/05/19   CSK                MI   \n",
       "753  11413    2019  Visakhapatnam    08/05/19   SRH                DD   \n",
       "754  11414    2019  Visakhapatnam    10/05/19    DD               CSK   \n",
       "755  11415    2019      Hyderabad    12/05/19    MI               CSK   \n",
       "\n",
       "    toss_winner toss_decision  result  dl_applied winner  win_by_runs  \\\n",
       "0           RCB         field  normal           0    SRH           35   \n",
       "1           RPS         field  normal           0    RPS            0   \n",
       "2           KKR         field  normal           0    KKR            0   \n",
       "3          KXIP         field  normal           0   KXIP            0   \n",
       "4           RCB           bat  normal           0    RCB           15   \n",
       "..          ...           ...     ...         ...    ...          ...   \n",
       "751          MI         field  normal           0     MI            0   \n",
       "752         CSK           bat  normal           0     MI            0   \n",
       "753          DD         field  normal           0     DD            0   \n",
       "754         CSK         field  normal           0    CSK            0   \n",
       "755          MI           bat  normal           0     MI            1   \n",
       "\n",
       "     win_by_wickets player_of_match  \\\n",
       "0                 0    Yuvraj Singh   \n",
       "1                 7       SPD Smith   \n",
       "2                10         CA Lynn   \n",
       "3                 6      GJ Maxwell   \n",
       "4                 0       KM Jadhav   \n",
       "..              ...             ...   \n",
       "751               9       HH Pandya   \n",
       "752               6        AS Yadav   \n",
       "753               2         RR Pant   \n",
       "754               6    F du Plessis   \n",
       "755               0       JJ Bumrah   \n",
       "\n",
       "                                         venue         umpire1  \\\n",
       "0    Rajiv Gandhi International Stadium, Uppal     AY Dandekar   \n",
       "1      Maharashtra Cricket Association Stadium  A Nand Kishore   \n",
       "2       Saurashtra Cricket Association Stadium     Nitin Menon   \n",
       "3                       Holkar Cricket Stadium    AK Chaudhary   \n",
       "4                        M Chinnaswamy Stadium               0   \n",
       "..                                         ...             ...   \n",
       "751                           Wankhede Stadium   Nanda Kishore   \n",
       "752                  M. A. Chidambaram Stadium     Nigel Llong   \n",
       "753                           ACA-VDCA Stadium               0   \n",
       "754                           ACA-VDCA Stadium   Sundaram Ravi   \n",
       "755         Rajiv Gandhi Intl. Cricket Stadium     Nitin Menon   \n",
       "\n",
       "            umpire2                  umpire3  \n",
       "0          NJ Llong                        0  \n",
       "1            S Ravi                        0  \n",
       "2         CK Nandan                        0  \n",
       "3     C Shamshuddin                        0  \n",
       "4                 0                        0  \n",
       "..              ...                      ...  \n",
       "751        O Nandan                   S Ravi  \n",
       "752     Nitin Menon                Ian Gould  \n",
       "753               0                        0  \n",
       "754  Bruce Oxenford  Chettithody Shamshuddin  \n",
       "755       Ian Gould              Nigel Llong  \n",
       "\n",
       "[756 rows x 18 columns]"
      ]
     },
     "execution_count": 9,
     "metadata": {},
     "output_type": "execute_result"
    }
   ],
   "source": [
    "matches.replace(['Mumbai Indians','Kolkata Knight Riders','Royal Challengers Bangalore','Deccan Chargers','Chennai Super Kings',\n",
    "                 'Rajasthan Royals','Delhi Capitals','Gujarat Lions','Kings XI Punjab',\n",
    "                 'Sunrisers Hyderabad','Rising Pune Supergiants','Kochi Tuskers Kerala','Pune Warriors','Rising Pune Supergiant']\n",
    "                \n",
    "                ,['MI','KKR','RCB','DC','CSK','RR','DD','GL','KXIP','SRH','RPS','KTK','PW','RPS'],inplace=True)\n",
    "matches.fillna(np.NaN)"
   ]
  },
  {
   "cell_type": "markdown",
   "metadata": {
    "id": "5oADQFvYIhFM"
   },
   "source": [
    "Toss win by different teams"
   ]
  },
  {
   "cell_type": "code",
   "execution_count": 10,
   "metadata": {
    "colab": {
     "base_uri": "https://localhost:8080/"
    },
    "id": "bv3nL_FWIwID",
    "outputId": "e1a63769-0fb2-48ce-9583-94a9113dfefc"
   },
   "outputs": [
    {
     "name": "stdout",
     "output_type": "stream",
     "text": [
      "Most Tosses won by; \n",
      "\n"
     ]
    },
    {
     "data": {
      "text/plain": [
       "MI                  98\n",
       "KKR                 92\n",
       "CSK                 89\n",
       "RCB                 81\n",
       "KXIP                81\n",
       "Delhi Daredevils    80\n",
       "RR                  80\n",
       "SRH                 46\n",
       "DC                  43\n",
       "PW                  20\n",
       "GL                  15\n",
       "RPS                 13\n",
       "DD                  10\n",
       "KTK                  8\n",
       "Name: toss_winner, dtype: int64"
      ]
     },
     "execution_count": 10,
     "metadata": {},
     "output_type": "execute_result"
    }
   ],
   "source": [
    "toss_win = matches['toss_winner'].value_counts()\n",
    "print('Most Tosses won by; \\n') \n",
    "toss_win"
   ]
  },
  {
   "cell_type": "markdown",
   "metadata": {
    "id": "Db_Bk8qsKcaB"
   },
   "source": [
    "It's seems MI (Mumbai Indians) won most tosses.\n"
   ]
  },
  {
   "cell_type": "markdown",
   "metadata": {
    "id": "mi1jKNN-KyKU"
   },
   "source": [
    "Let's see who won more matches"
   ]
  },
  {
   "cell_type": "code",
   "execution_count": 11,
   "metadata": {
    "colab": {
     "base_uri": "https://localhost:8080/"
    },
    "id": "hAshZvoOIGPh",
    "outputId": "cbc4e416-889a-4505-d53c-466919862904"
   },
   "outputs": [
    {
     "name": "stdout",
     "output_type": "stream",
     "text": [
      "Most matches won by: \n",
      "\n"
     ]
    },
    {
     "data": {
      "text/plain": [
       "MI                  109\n",
       "CSK                 100\n",
       "KKR                  92\n",
       "RCB                  84\n",
       "KXIP                 82\n",
       "RR                   75\n",
       "Delhi Daredevils     67\n",
       "SRH                  58\n",
       "DC                   29\n",
       "RPS                  15\n",
       "GL                   13\n",
       "PW                   12\n",
       "DD                   10\n",
       "KTK                   6\n",
       "0                     4\n",
       "Name: winner, dtype: int64"
      ]
     },
     "execution_count": 11,
     "metadata": {},
     "output_type": "execute_result"
    }
   ],
   "source": [
    "matches_won = matches['winner'].value_counts()\n",
    "print('Most matches won by: \\n')\n",
    "matches_won"
   ]
  },
  {
   "cell_type": "markdown",
   "metadata": {
    "id": "tK84R0MFMMU7"
   },
   "source": [
    "Let's see toss winning statistics"
   ]
  },
  {
   "cell_type": "code",
   "execution_count": 12,
   "metadata": {
    "id": "YgBt2_tAMiss"
   },
   "outputs": [],
   "source": [
    "teams_toss = matches['toss_winner'].value_counts().index.tolist()\n",
    "teams_winner = matches['winner'].value_counts().index.tolist()"
   ]
  },
  {
   "cell_type": "code",
   "execution_count": 20,
   "metadata": {
    "colab": {
     "base_uri": "https://localhost:8080/",
     "height": 443
    },
    "id": "O8JgqFsmLBNy",
    "outputId": "dd0779fe-2ffc-41ee-faef-3bfa4df726dc"
   },
   "outputs": [
    {
     "data": {
      "text/plain": [
       "Text(0.5, 1.0, 'TOSS WINNING STATISTICS')"
      ]
     },
     "execution_count": 20,
     "metadata": {},
     "output_type": "execute_result"
    },
    {
     "data": {
      "image/png": "[encoded data removed]",
      "text/plain": [
       "<Figure size 720x360 with 1 Axes>"
      ]
     },
     "metadata": {
      "needs_background": "light"
     },
     "output_type": "display_data"
    }
   ],
   "source": [
    "#toss winning statistics\n",
    "plt.figure(figsize=(10,5))\n",
    "plt.bar(teams_toss,toss_win,color='#F50982')\n",
    "plt.xticks(rotation=90)\n",
    "plt.tick_params(axis='x',which='major' ,labelsize=10)\n",
    "plt.tick_params(axis='y',which='major' ,labelsize=10)\n",
    "plt.xlabel('TEAMS',fontsize=13)\n",
    "plt.ylabel('NUMBER OF MATCHES',labelpad=15,fontsize=13)\n",
    "plt.title('TOSS WINNING STATISTICS')"
   ]
  },
  {
   "cell_type": "code",
   "execution_count": 21,
   "metadata": {
    "colab": {
     "base_uri": "https://localhost:8080/",
     "height": 443
    },
    "id": "UsUZJwmnQFS6",
    "outputId": "72b48b27-e0e9-4879-f022-aa504bc30e4e"
   },
   "outputs": [
    {
     "data": {
      "text/plain": [
       "Text(0.5, 1.0, 'MATCH WINNING STATISTICS')"
      ]
     },
     "execution_count": 21,
     "metadata": {},
     "output_type": "execute_result"
    },
    {
     "data": {
      "image/png": "[encoded data removed]",
      "text/plain": [
       "<Figure size 720x360 with 1 Axes>"
      ]
     },
     "metadata": {
      "needs_background": "light"
     },
     "output_type": "display_data"
    }
   ],
   "source": [
    "#match winning statistics\n",
    "plt.figure(figsize=(10,5))\n",
    "plt.bar(teams_winner,matches_won,color='#0621D7')\n",
    "plt.xticks(rotation=90)\n",
    "plt.tick_params(axis='x',which='major' ,labelsize=10)\n",
    "plt.tick_params(axis='y',which='major' ,labelsize=10)\n",
    "plt.xlabel('TEAMS',fontsize=13)\n",
    "plt.ylabel('NUMBER OF MATCHES',labelpad=15,fontsize=13)\n",
    "plt.title('MATCH WINNING STATISTICS')"
   ]
  },
  {
   "cell_type": "markdown",
   "metadata": {
    "id": "dwbKIC_vUfSS"
   },
   "source": [
    "##  Number of Matches played each season\n"
   ]
  },
  {
   "cell_type": "code",
   "execution_count": 22,
   "metadata": {
    "colab": {
     "base_uri": "https://localhost:8080/"
    },
    "id": "kyFddPmML8Ps",
    "outputId": "6920fe76-849a-4679-ddf5-05663a3f2c34"
   },
   "outputs": [
    {
     "name": "stdout",
     "output_type": "stream",
     "text": [
      "Season [2013, 2012, 2011, 2019, 2018, 2016, 2014, 2010, 2017, 2015, 2008, 2009]\n",
      "\n",
      "Matches played [76, 74, 73, 60, 60, 60, 60, 60, 59, 59, 58, 57]\n"
     ]
    }
   ],
   "source": [
    "count_df = matches.iloc[:, 1]\n",
    "season = count_df.value_counts().keys().tolist()\n",
    "values = count_df.value_counts().tolist()\n",
    "print('Season {score}\\n\\nMatches played {run}'.format(score = season, run = values))"
   ]
  },
  {
   "cell_type": "code",
   "execution_count": 23,
   "metadata": {
    "colab": {
     "base_uri": "https://localhost:8080/",
     "height": 350
    },
    "id": "XCdBT_cgU5k8",
    "outputId": "37af788f-51b3-45f5-9b1b-5a76651f5c80"
   },
   "outputs": [
    {
     "data": {
      "image/png": "[encoded data removed]",
      "text/plain": [
       "<Figure size 720x360 with 1 Axes>"
      ]
     },
     "metadata": {
      "needs_background": "light"
     },
     "output_type": "display_data"
    }
   ],
   "source": [
    "plt.gcf().set_size_inches(10,5)\n",
    "plt.xlabel('SEASON')\n",
    "plt.ylabel('MATCHES PLAYED')\n",
    "plt.title('MATCHES PLAYED EACH SEASON')\n",
    "plt.bar(season, values, color = '#FF5733')\n",
    "plt.xticks(season)\n",
    "plt.show()"
   ]
  },
  {
   "cell_type": "code",
   "execution_count": 24,
   "metadata": {
    "colab": {
     "base_uri": "https://localhost:8080/"
    },
    "id": "xmOrHnAhYi3s",
    "outputId": "04223d15-a5f6-410e-9cd5-fb124e65d853"
   },
   "outputs": [
    {
     "name": "stdout",
     "output_type": "stream",
     "text": [
      "Man of the match ['CH Gayle', 'AB de Villiers', 'DA Warner', 'RG Sharma', 'MS Dhoni', 'YK Pathan', 'SR Watson', 'SK Raina', 'G Gambhir', 'AM Rahane', 'MEK Hussey', 'V Kohli', 'AD Russell', 'DR Smith', 'V Sehwag', 'A Mishra', 'JH Kallis', 'KA Pollard', 'AT Rayudu', 'SE Marsh', 'SP Narine', 'Harbhajan Singh', 'SR Tendulkar', 'UT Yadav', 'RA Jadeja', 'AC Gilchrist', 'RV Uthappa', 'Rashid Khan', 'HH Pandya', 'A Nehra']\n",
      "\n",
      "Runs[21, 20, 17, 17, 17, 16, 15, 14, 13, 12, 12, 12, 11, 11, 11, 11, 10, 10, 9, 9, 9, 8, 8, 8, 8, 7, 7, 7, 6, 6]\n"
     ]
    }
   ],
   "source": [
    "ManOfTheMatch = matches.iloc[:, 13]\n",
    "players = ManOfTheMatch.value_counts().head(30).keys().tolist()\n",
    "runs = ManOfTheMatch.value_counts().head(30).tolist()\n",
    "print('Man of the match {man}\\n\\nRuns{run}'.format(man = players, run = runs))"
   ]
  },
  {
   "cell_type": "markdown",
   "metadata": {
    "id": "onpYN4AXydhZ"
   },
   "source": [
    "PIE CHART TO REPRESENT MAN OF THE MATCH "
   ]
  },
  {
   "cell_type": "code",
   "execution_count": 25,
   "metadata": {
    "colab": {
     "base_uri": "https://localhost:8080/",
     "height": 609
    },
    "id": "EmqF-M0kw4PD",
    "outputId": "f1b9bd0e-265b-4b5c-b2b9-903440d2653e"
   },
   "outputs": [
    {
     "data": {
      "image/png": "[encoded data removed]",
      "text/plain": [
       "<Figure size 720x720 with 1 Axes>"
      ]
     },
     "metadata": {},
     "output_type": "display_data"
    }
   ],
   "source": [
    "#counting the number of man of the match awards received by each player\n",
    "man_count = matches['player_of_match'].value_counts()\n",
    "\n",
    "#plotting the data of top 10 players\n",
    "plt.figure(figsize=(10,10))\n",
    "plt.pie(man_count.head(10), autopct='%.0f%%', explode=(0.1,0.0,0.0,0.0,0.0,0.0,0.0,0.0,0.0,0.0), shadow=True, startangle=90)\n",
    "plt.title('MAN OF THE MATCH STATISTICS IN PIE CHART');"
   ]
  },
  {
   "cell_type": "code",
   "execution_count": 26,
   "metadata": {
    "colab": {
     "base_uri": "https://localhost:8080/",
     "height": 621
    },
    "id": "rzdoaVMbYoIc",
    "outputId": "e13de192-ab0f-4e87-f861-7b4902c7a4e4"
   },
   "outputs": [
    {
     "data": {
      "image/png": "[encoded data removed]",
      "text/plain": [
       "<Figure size 720x720 with 1 Axes>"
      ]
     },
     "metadata": {
      "needs_background": "light"
     },
     "output_type": "display_data"
    }
   ],
   "source": [
    "plt.gcf().set_size_inches(10,10)\n",
    "plt.xlabel('PLAYERS')\n",
    "plt.ylabel('AWARDS')\n",
    "plt.title('MOST MAN OF THE MATCH AWARDS')\n",
    "plt.barh(players, runs, color = '#581845' )\n",
    "plt.gca().invert_yaxis()\n",
    "plt.xlim(5, 25)\n",
    "plt.show()"
   ]
  },
  {
   "cell_type": "markdown",
   "metadata": {},
   "source": [
    "### Probability of Toss determining winner "
   ]
  },
  {
   "cell_type": "code",
   "execution_count": 27,
   "metadata": {},
   "outputs": [],
   "source": [
    "prob_toss_win = matches.loc[:, ['toss_winner', 'winner']]\n",
    "when_true = prob_toss_win['toss_winner'] == prob_toss_win['winner']\n",
    "prob_toss_win = prob_toss_win[when_true]\n",
    "percentage = (prob_toss_win.shape[0]/matches.shape[0]) * 100"
   ]
  },
  {
   "cell_type": "code",
   "execution_count": 28,
   "metadata": {},
   "outputs": [
    {
     "data": {
      "image/png": "[encoded data removed]",
      "text/plain": [
       "<Figure size 432x288 with 1 Axes>"
      ]
     },
     "metadata": {},
     "output_type": "display_data"
    }
   ],
   "source": [
    "labels = ['WIN', 'LOSS']\n",
    "percent = [percentage, 100 - percentage]\n",
    "plt.pie(percent, labels = labels,autopct='%1.1f%%', startangle=90)\n",
    "plt.title('Probability of Toss determining winner')\n",
    "pie_toss_winner = plt.Circle((0,0), 0.2, color='white')\n",
    "p = plt.gcf()\n",
    "p.gca().add_artist(pie_toss_winner)\n",
    "plt.show()"
   ]
  },
  {
   "cell_type": "markdown",
   "metadata": {},
   "source": [
    "It's okay if you've lost the toss, you still have an equal chance of winning the match. "
   ]
  },
  {
   "cell_type": "markdown",
   "metadata": {
    "id": "xRwmywiKoEaI"
   },
   "source": [
    "## TOP SCORE (Batting)"
   ]
  },
  {
   "cell_type": "code",
   "execution_count": 29,
   "metadata": {
    "colab": {
     "base_uri": "https://localhost:8080/",
     "height": 693
    },
    "id": "3nPjvCt-ozLu",
    "outputId": "72b83017-c386-4c9d-d0f8-858a59a070a8"
   },
   "outputs": [
    {
     "data": {
      "text/html": [
       "<div>\n",
       "<style scoped>\n",
       "    .dataframe tbody tr th:only-of-type {\n",
       "        vertical-align: middle;\n",
       "    }\n",
       "\n",
       "    .dataframe tbody tr th {\n",
       "        vertical-align: top;\n",
       "    }\n",
       "\n",
       "    .dataframe thead th {\n",
       "        text-align: right;\n",
       "    }\n",
       "</style>\n",
       "<table border=\"1\" class=\"dataframe\">\n",
       "  <thead>\n",
       "    <tr style=\"text-align: right;\">\n",
       "      <th></th>\n",
       "      <th>match_id</th>\n",
       "      <th>inning</th>\n",
       "      <th>batting_team</th>\n",
       "      <th>bowling_team</th>\n",
       "      <th>over</th>\n",
       "      <th>ball</th>\n",
       "      <th>batsman</th>\n",
       "      <th>non_striker</th>\n",
       "      <th>bowler</th>\n",
       "      <th>is_super_over</th>\n",
       "      <th>...</th>\n",
       "      <th>bye_runs</th>\n",
       "      <th>legbye_runs</th>\n",
       "      <th>noball_runs</th>\n",
       "      <th>penalty_runs</th>\n",
       "      <th>batsman_runs</th>\n",
       "      <th>extra_runs</th>\n",
       "      <th>total_runs</th>\n",
       "      <th>player_dismissed</th>\n",
       "      <th>dismissal_kind</th>\n",
       "      <th>fielder</th>\n",
       "    </tr>\n",
       "  </thead>\n",
       "  <tbody>\n",
       "    <tr>\n",
       "      <th>0</th>\n",
       "      <td>1</td>\n",
       "      <td>1</td>\n",
       "      <td>Sunrisers Hyderabad</td>\n",
       "      <td>Royal Challengers Bangalore</td>\n",
       "      <td>1</td>\n",
       "      <td>1</td>\n",
       "      <td>DA Warner</td>\n",
       "      <td>S Dhawan</td>\n",
       "      <td>TS Mills</td>\n",
       "      <td>0</td>\n",
       "      <td>...</td>\n",
       "      <td>0</td>\n",
       "      <td>0</td>\n",
       "      <td>0</td>\n",
       "      <td>0</td>\n",
       "      <td>0</td>\n",
       "      <td>0</td>\n",
       "      <td>0</td>\n",
       "      <td>NaN</td>\n",
       "      <td>NaN</td>\n",
       "      <td>NaN</td>\n",
       "    </tr>\n",
       "    <tr>\n",
       "      <th>1</th>\n",
       "      <td>1</td>\n",
       "      <td>1</td>\n",
       "      <td>Sunrisers Hyderabad</td>\n",
       "      <td>Royal Challengers Bangalore</td>\n",
       "      <td>1</td>\n",
       "      <td>2</td>\n",
       "      <td>DA Warner</td>\n",
       "      <td>S Dhawan</td>\n",
       "      <td>TS Mills</td>\n",
       "      <td>0</td>\n",
       "      <td>...</td>\n",
       "      <td>0</td>\n",
       "      <td>0</td>\n",
       "      <td>0</td>\n",
       "      <td>0</td>\n",
       "      <td>0</td>\n",
       "      <td>0</td>\n",
       "      <td>0</td>\n",
       "      <td>NaN</td>\n",
       "      <td>NaN</td>\n",
       "      <td>NaN</td>\n",
       "    </tr>\n",
       "    <tr>\n",
       "      <th>2</th>\n",
       "      <td>1</td>\n",
       "      <td>1</td>\n",
       "      <td>Sunrisers Hyderabad</td>\n",
       "      <td>Royal Challengers Bangalore</td>\n",
       "      <td>1</td>\n",
       "      <td>3</td>\n",
       "      <td>DA Warner</td>\n",
       "      <td>S Dhawan</td>\n",
       "      <td>TS Mills</td>\n",
       "      <td>0</td>\n",
       "      <td>...</td>\n",
       "      <td>0</td>\n",
       "      <td>0</td>\n",
       "      <td>0</td>\n",
       "      <td>0</td>\n",
       "      <td>4</td>\n",
       "      <td>0</td>\n",
       "      <td>4</td>\n",
       "      <td>NaN</td>\n",
       "      <td>NaN</td>\n",
       "      <td>NaN</td>\n",
       "    </tr>\n",
       "    <tr>\n",
       "      <th>3</th>\n",
       "      <td>1</td>\n",
       "      <td>1</td>\n",
       "      <td>Sunrisers Hyderabad</td>\n",
       "      <td>Royal Challengers Bangalore</td>\n",
       "      <td>1</td>\n",
       "      <td>4</td>\n",
       "      <td>DA Warner</td>\n",
       "      <td>S Dhawan</td>\n",
       "      <td>TS Mills</td>\n",
       "      <td>0</td>\n",
       "      <td>...</td>\n",
       "      <td>0</td>\n",
       "      <td>0</td>\n",
       "      <td>0</td>\n",
       "      <td>0</td>\n",
       "      <td>0</td>\n",
       "      <td>0</td>\n",
       "      <td>0</td>\n",
       "      <td>NaN</td>\n",
       "      <td>NaN</td>\n",
       "      <td>NaN</td>\n",
       "    </tr>\n",
       "    <tr>\n",
       "      <th>4</th>\n",
       "      <td>1</td>\n",
       "      <td>1</td>\n",
       "      <td>Sunrisers Hyderabad</td>\n",
       "      <td>Royal Challengers Bangalore</td>\n",
       "      <td>1</td>\n",
       "      <td>5</td>\n",
       "      <td>DA Warner</td>\n",
       "      <td>S Dhawan</td>\n",
       "      <td>TS Mills</td>\n",
       "      <td>0</td>\n",
       "      <td>...</td>\n",
       "      <td>0</td>\n",
       "      <td>0</td>\n",
       "      <td>0</td>\n",
       "      <td>0</td>\n",
       "      <td>0</td>\n",
       "      <td>2</td>\n",
       "      <td>2</td>\n",
       "      <td>NaN</td>\n",
       "      <td>NaN</td>\n",
       "      <td>NaN</td>\n",
       "    </tr>\n",
       "    <tr>\n",
       "      <th>...</th>\n",
       "      <td>...</td>\n",
       "      <td>...</td>\n",
       "      <td>...</td>\n",
       "      <td>...</td>\n",
       "      <td>...</td>\n",
       "      <td>...</td>\n",
       "      <td>...</td>\n",
       "      <td>...</td>\n",
       "      <td>...</td>\n",
       "      <td>...</td>\n",
       "      <td>...</td>\n",
       "      <td>...</td>\n",
       "      <td>...</td>\n",
       "      <td>...</td>\n",
       "      <td>...</td>\n",
       "      <td>...</td>\n",
       "      <td>...</td>\n",
       "      <td>...</td>\n",
       "      <td>...</td>\n",
       "      <td>...</td>\n",
       "      <td>...</td>\n",
       "    </tr>\n",
       "    <tr>\n",
       "      <th>179073</th>\n",
       "      <td>11415</td>\n",
       "      <td>2</td>\n",
       "      <td>Chennai Super Kings</td>\n",
       "      <td>Mumbai Indians</td>\n",
       "      <td>20</td>\n",
       "      <td>2</td>\n",
       "      <td>RA Jadeja</td>\n",
       "      <td>SR Watson</td>\n",
       "      <td>SL Malinga</td>\n",
       "      <td>0</td>\n",
       "      <td>...</td>\n",
       "      <td>0</td>\n",
       "      <td>0</td>\n",
       "      <td>0</td>\n",
       "      <td>0</td>\n",
       "      <td>1</td>\n",
       "      <td>0</td>\n",
       "      <td>1</td>\n",
       "      <td>NaN</td>\n",
       "      <td>NaN</td>\n",
       "      <td>NaN</td>\n",
       "    </tr>\n",
       "    <tr>\n",
       "      <th>179074</th>\n",
       "      <td>11415</td>\n",
       "      <td>2</td>\n",
       "      <td>Chennai Super Kings</td>\n",
       "      <td>Mumbai Indians</td>\n",
       "      <td>20</td>\n",
       "      <td>3</td>\n",
       "      <td>SR Watson</td>\n",
       "      <td>RA Jadeja</td>\n",
       "      <td>SL Malinga</td>\n",
       "      <td>0</td>\n",
       "      <td>...</td>\n",
       "      <td>0</td>\n",
       "      <td>0</td>\n",
       "      <td>0</td>\n",
       "      <td>0</td>\n",
       "      <td>2</td>\n",
       "      <td>0</td>\n",
       "      <td>2</td>\n",
       "      <td>NaN</td>\n",
       "      <td>NaN</td>\n",
       "      <td>NaN</td>\n",
       "    </tr>\n",
       "    <tr>\n",
       "      <th>179075</th>\n",
       "      <td>11415</td>\n",
       "      <td>2</td>\n",
       "      <td>Chennai Super Kings</td>\n",
       "      <td>Mumbai Indians</td>\n",
       "      <td>20</td>\n",
       "      <td>4</td>\n",
       "      <td>SR Watson</td>\n",
       "      <td>RA Jadeja</td>\n",
       "      <td>SL Malinga</td>\n",
       "      <td>0</td>\n",
       "      <td>...</td>\n",
       "      <td>0</td>\n",
       "      <td>0</td>\n",
       "      <td>0</td>\n",
       "      <td>0</td>\n",
       "      <td>1</td>\n",
       "      <td>0</td>\n",
       "      <td>1</td>\n",
       "      <td>SR Watson</td>\n",
       "      <td>run out</td>\n",
       "      <td>KH Pandya</td>\n",
       "    </tr>\n",
       "    <tr>\n",
       "      <th>179076</th>\n",
       "      <td>11415</td>\n",
       "      <td>2</td>\n",
       "      <td>Chennai Super Kings</td>\n",
       "      <td>Mumbai Indians</td>\n",
       "      <td>20</td>\n",
       "      <td>5</td>\n",
       "      <td>SN Thakur</td>\n",
       "      <td>RA Jadeja</td>\n",
       "      <td>SL Malinga</td>\n",
       "      <td>0</td>\n",
       "      <td>...</td>\n",
       "      <td>0</td>\n",
       "      <td>0</td>\n",
       "      <td>0</td>\n",
       "      <td>0</td>\n",
       "      <td>2</td>\n",
       "      <td>0</td>\n",
       "      <td>2</td>\n",
       "      <td>NaN</td>\n",
       "      <td>NaN</td>\n",
       "      <td>NaN</td>\n",
       "    </tr>\n",
       "    <tr>\n",
       "      <th>179077</th>\n",
       "      <td>11415</td>\n",
       "      <td>2</td>\n",
       "      <td>Chennai Super Kings</td>\n",
       "      <td>Mumbai Indians</td>\n",
       "      <td>20</td>\n",
       "      <td>6</td>\n",
       "      <td>SN Thakur</td>\n",
       "      <td>RA Jadeja</td>\n",
       "      <td>SL Malinga</td>\n",
       "      <td>0</td>\n",
       "      <td>...</td>\n",
       "      <td>0</td>\n",
       "      <td>0</td>\n",
       "      <td>0</td>\n",
       "      <td>0</td>\n",
       "      <td>0</td>\n",
       "      <td>0</td>\n",
       "      <td>0</td>\n",
       "      <td>SN Thakur</td>\n",
       "      <td>lbw</td>\n",
       "      <td>NaN</td>\n",
       "    </tr>\n",
       "  </tbody>\n",
       "</table>\n",
       "<p>179078 rows × 21 columns</p>\n",
       "</div>"
      ],
      "text/plain": [
       "        match_id  inning         batting_team                 bowling_team  \\\n",
       "0              1       1  Sunrisers Hyderabad  Royal Challengers Bangalore   \n",
       "1              1       1  Sunrisers Hyderabad  Royal Challengers Bangalore   \n",
       "2              1       1  Sunrisers Hyderabad  Royal Challengers Bangalore   \n",
       "3              1       1  Sunrisers Hyderabad  Royal Challengers Bangalore   \n",
       "4              1       1  Sunrisers Hyderabad  Royal Challengers Bangalore   \n",
       "...          ...     ...                  ...                          ...   \n",
       "179073     11415       2  Chennai Super Kings               Mumbai Indians   \n",
       "179074     11415       2  Chennai Super Kings               Mumbai Indians   \n",
       "179075     11415       2  Chennai Super Kings               Mumbai Indians   \n",
       "179076     11415       2  Chennai Super Kings               Mumbai Indians   \n",
       "179077     11415       2  Chennai Super Kings               Mumbai Indians   \n",
       "\n",
       "        over  ball    batsman non_striker      bowler  is_super_over  ...  \\\n",
       "0          1     1  DA Warner    S Dhawan    TS Mills              0  ...   \n",
       "1          1     2  DA Warner    S Dhawan    TS Mills              0  ...   \n",
       "2          1     3  DA Warner    S Dhawan    TS Mills              0  ...   \n",
       "3          1     4  DA Warner    S Dhawan    TS Mills              0  ...   \n",
       "4          1     5  DA Warner    S Dhawan    TS Mills              0  ...   \n",
       "...      ...   ...        ...         ...         ...            ...  ...   \n",
       "179073    20     2  RA Jadeja   SR Watson  SL Malinga              0  ...   \n",
       "179074    20     3  SR Watson   RA Jadeja  SL Malinga              0  ...   \n",
       "179075    20     4  SR Watson   RA Jadeja  SL Malinga              0  ...   \n",
       "179076    20     5  SN Thakur   RA Jadeja  SL Malinga              0  ...   \n",
       "179077    20     6  SN Thakur   RA Jadeja  SL Malinga              0  ...   \n",
       "\n",
       "        bye_runs  legbye_runs  noball_runs  penalty_runs  batsman_runs  \\\n",
       "0              0            0            0             0             0   \n",
       "1              0            0            0             0             0   \n",
       "2              0            0            0             0             4   \n",
       "3              0            0            0             0             0   \n",
       "4              0            0            0             0             0   \n",
       "...          ...          ...          ...           ...           ...   \n",
       "179073         0            0            0             0             1   \n",
       "179074         0            0            0             0             2   \n",
       "179075         0            0            0             0             1   \n",
       "179076         0            0            0             0             2   \n",
       "179077         0            0            0             0             0   \n",
       "\n",
       "        extra_runs  total_runs  player_dismissed dismissal_kind    fielder  \n",
       "0                0           0               NaN            NaN        NaN  \n",
       "1                0           0               NaN            NaN        NaN  \n",
       "2                0           4               NaN            NaN        NaN  \n",
       "3                0           0               NaN            NaN        NaN  \n",
       "4                2           2               NaN            NaN        NaN  \n",
       "...            ...         ...               ...            ...        ...  \n",
       "179073           0           1               NaN            NaN        NaN  \n",
       "179074           0           2               NaN            NaN        NaN  \n",
       "179075           0           1         SR Watson        run out  KH Pandya  \n",
       "179076           0           2               NaN            NaN        NaN  \n",
       "179077           0           0         SN Thakur            lbw        NaN  \n",
       "\n",
       "[179078 rows x 21 columns]"
      ]
     },
     "execution_count": 29,
     "metadata": {},
     "output_type": "execute_result"
    }
   ],
   "source": [
    "cricket = pd.read_csv('deliveries.csv')\n",
    "cricket"
   ]
  },
  {
   "cell_type": "code",
   "execution_count": 32,
   "metadata": {
    "id": "Jj_uv6A5oD10"
   },
   "outputs": [],
   "source": [
    "# To Find the highest score by an individual IPL player\n",
    "h_score = cricket.groupby(['batsman'])\n",
    "player_runs = dict()\n",
    "\n",
    "# For loop for sorting the higest score by each player\n",
    "for batsman,group in h_score:\n",
    "    runs = h_score.get_group(batsman).batsman_runs.sum()\n",
    "    player_runs.setdefault(batsman,runs)\n",
    "sort=sorted(player_runs.items(),reverse=True,key=lambda x: x[1])\n",
    "\n",
    "# Empty dict to store values\n",
    "batsman=[]\n",
    "batsman_runs=[]\n",
    "\n",
    "# Sorting out the best\n",
    "for i in dict(sort).keys():\n",
    "    batsman.append(i)\n",
    "for i in dict(sort).values():\n",
    "    batsman_runs.append(i)"
   ]
  },
  {
   "cell_type": "code",
   "execution_count": 33,
   "metadata": {
    "colab": {
     "base_uri": "https://localhost:8080/",
     "height": 699
    },
    "id": "imu1NUdnaCjo",
    "outputId": "9b1af27e-fb62-4661-f772-8f58a0631e84"
   },
   "outputs": [
    {
     "data": {
      "text/plain": [
       "Text(0.5, 1.0, 'RUNS BY AN INDIVIDUAL PLAYER')"
      ]
     },
     "execution_count": 33,
     "metadata": {},
     "output_type": "execute_result"
    },
    {
     "data": {
      "image/png": "[encoded data removed]",
      "text/plain": [
       "<Figure size 1440x720 with 1 Axes>"
      ]
     },
     "metadata": {
      "needs_background": "light"
     },
     "output_type": "display_data"
    }
   ],
   "source": [
    "plt.figure(figsize=(20,10))\n",
    "plt.xticks(rotation=90)\n",
    "barplot=plt.bar(batsman[:11],batsman_runs[:11])\n",
    "\n",
    "# Authentic Color of each teams (Eg: MS DHONI Team - CSK, Color - Yellow)\n",
    "barplot[0].set_color('#EC1C24')\n",
    "barplot[1].set_color('#FFFF3C')\n",
    "barplot[2].set_color('#004BA0')\n",
    "barplot[3].set_color('#FF822A')\n",
    "barplot[4].set_color('#00008B')\n",
    "barplot[5].set_color('#ED1B24')\n",
    "barplot[6].set_color('#FFFF3C')\n",
    "barplot[7].set_color('#FFFF3C')\n",
    "barplot[8].set_color('#EC1C24')\n",
    "barplot[9].set_color('#00008B')\n",
    "barplot[10].set_color('#00008B')\n",
    "\n",
    "plt.xlabel('PLAYERS',fontsize=13)\n",
    "plt.ylabel('RUNS',labelpad=15,fontsize=13)\n",
    "plt.title('RUNS BY AN INDIVIDUAL PLAYER')"
   ]
  },
  {
   "cell_type": "markdown",
   "metadata": {
    "id": "vfa46yNWzWA8"
   },
   "source": [
    "# Highest wicket takers in the IPL"
   ]
  },
  {
   "cell_type": "code",
   "execution_count": 35,
   "metadata": {
    "colab": {
     "base_uri": "https://localhost:8080/"
    },
    "id": "yMSifJh4n9mN",
    "outputId": "1c60efdf-1500-4977-92bc-984789912226"
   },
   "outputs": [
    {
     "name": "stdout",
     "output_type": "stream",
     "text": [
      "Bowler ['SL Malinga', 'A Mishra', 'Harbhajan Singh', 'PP Chawla', 'DJ Bravo', 'B Kumar', 'R Ashwin', 'SP Narine', 'UT Yadav', 'RA Jadeja']\n",
      "\n",
      "Wickets[170, 156, 150, 149, 147, 133, 125, 122, 119, 108]\n"
     ]
    }
   ],
   "source": [
    "wicket = cricket.loc[:, ['batsman', 'bowler', 'dismissal_kind']]\n",
    "dismissal_kinds = [\n",
    " 'caught',\n",
    " 'bowled',\n",
    " 'run out',\n",
    " 'lbw',\n",
    " 'caught and bowled',\n",
    " 'stumped',\n",
    " 'hit wicket']\n",
    "is_bowler = (wicket['dismissal_kind'] == 'bowled') | (wicket['dismissal_kind'] == 'caught') | (wicket['dismissal_kind'] == 'caught and bowled') | (wicket['dismissal_kind'] == 'stumped') | (wicket['dismissal_kind'] == 'lbw') | (wicket['dismissal_kind'] == 'hit wicket')\n",
    "bowler_data = wicket[is_bowler].loc[:, ['bowler']]\n",
    "bowler = bowler_data['bowler'].value_counts().head(10).keys().tolist()\n",
    "wickets = bowler_data['bowler'].value_counts().head(10).tolist()\n",
    "print('Bowler {bowl}\\n\\nWickets{wick}'.format(bowl = bowler, wick = wickets))"
   ]
  },
  {
   "cell_type": "code",
   "execution_count": 36,
   "metadata": {
    "colab": {
     "base_uri": "https://localhost:8080/",
     "height": 621
    },
    "id": "XElO2LbyzhSH",
    "outputId": "b54ab004-f46e-4d11-d687-64374d52b294"
   },
   "outputs": [
    {
     "data": {
      "image/png": "[encoded data removed]",
      "text/plain": [
       "<Figure size 1440x720 with 1 Axes>"
      ]
     },
     "metadata": {
      "needs_background": "light"
     },
     "output_type": "display_data"
    }
   ],
   "source": [
    "plt.gcf().set_size_inches(20,10)\n",
    "plt.xlabel('BOWLER')\n",
    "plt.ylabel('WICKETS')\n",
    "plt.title('HIGHEST WICKET TAKERS')\n",
    "plt.bar(bowler, wickets, color = '#911668')\n",
    "plt.show()"
   ]
  },
  {
   "cell_type": "markdown",
   "metadata": {
    "id": "fnDZMiIE1bA_"
   },
   "source": [
    "# Top 10 Stadiums"
   ]
  },
  {
   "cell_type": "code",
   "execution_count": 37,
   "metadata": {
    "id": "sFAmE39Y1_4I"
   },
   "outputs": [],
   "source": [
    "#finding the top 10 stadiums with maximum match counts \n",
    "count_stadium=matches['venue'].value_counts().head(20)\n",
    "stadium_names=matches['venue'].value_counts().head(20).index.tolist()"
   ]
  },
  {
   "cell_type": "code",
   "execution_count": 38,
   "metadata": {
    "colab": {
     "base_uri": "https://localhost:8080/",
     "height": 431
    },
    "id": "Wa7M0aUs4jTS",
    "outputId": "dc72801e-6b9a-4f5e-8c03-15fa7e904139"
   },
   "outputs": [
    {
     "data": {
      "image/png": "[encoded data removed]",
      "text/plain": [
       "<Figure size 1440x720 with 1 Axes>"
      ]
     },
     "metadata": {
      "needs_background": "light"
     },
     "output_type": "display_data"
    }
   ],
   "source": [
    "plt.figure(figsize=(20,10))\n",
    "plt.plot(count_stadium,stadium_names,'p--',marker='o')\n",
    "plt.tick_params(axis='x',which='major' ,labelsize=15)\n",
    "plt.tick_params(axis='y',which='major' ,labelsize=15)\n",
    "plt.ylabel('STADIUM',labelpad=15,fontsize=15)\n",
    "plt.xlabel('NUMBER OF MATCHES',labelpad=10,fontsize=15)\n",
    "plt.title('STADIUM-MATCH OCCURENCE',fontsize=15);"
   ]
  },
  {
   "cell_type": "code",
   "execution_count": 39,
   "metadata": {
    "id": "dQJwRpgX46wf"
   },
   "outputs": [],
   "source": [
    "!pip install jovian --upgrade -q"
   ]
  },
  {
   "cell_type": "code",
   "execution_count": 40,
   "metadata": {},
   "outputs": [
    {
     "data": {
      "application/javascript": [
       "window.require && require([\"base/js/namespace\"],function(Jupyter){Jupyter.notebook.save_checkpoint()})"
      ],
      "text/plain": [
       "<IPython.core.display.Javascript object>"
      ]
     },
     "metadata": {},
     "output_type": "display_data"
    },
    {
     "name": "stdout",
     "output_type": "stream",
     "text": [
      "[jovian] Attempting to save notebook..\u001b[0m\n",
      "[jovian] Updating notebook \"vanithagan83/ipl\" on https://jovian.ai\u001b[0m\n",
      "[jovian] Uploading notebook..\u001b[0m\n",
      "[jovian] Uploading additional files...\u001b[0m\n",
      "[jovian] Committed successfully! https://jovian.ai/vanithagan83/ipl\u001b[0m\n"
     ]
    },
    {
     "data": {
      "text/plain": [
       "'https://jovian.ai/vanithagan83/ipl'"
      ]
     },
     "execution_count": 40,
     "metadata": {},
     "output_type": "execute_result"
    }
   ],
   "source": [
    "import jovian\n",
    "jovian.commit(project='ipl')"
   ]
  },
  {
   "cell_type": "code",
   "execution_count": null,
   "metadata": {},
   "outputs": [],
   "source": []
  }
 ],
 "metadata": {
  "colab": {
   "collapsed_sections": [],
   "include_colab_link": true,
   "name": "IPL Matches",
   "provenance": []
  },
  "kernelspec": {
   "display_name": "Python 3",
   "language": "python",
   "name": "python3"
  },
  "language_info": {
   "codemirror_mode": {
    "name": "ipython",
    "version": 3
   },
   "file_extension": ".py",
   "mimetype": "text/x-python",
   "name": "python",
   "nbconvert_exporter": "python",
   "pygments_lexer": "ipython3",
   "version": "3.8.6"
  }
 },
 "nbformat": 4,
 "nbformat_minor": 1
}
